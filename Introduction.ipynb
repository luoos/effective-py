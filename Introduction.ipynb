{
 "cells": [
  {
   "cell_type": "markdown",
   "metadata": {},
   "source": [
    "# Introduction\n",
    "\n",
    "### Outline\n",
    "\n",
    "- Chapter 1: Pythonic Thinking\n",
    "- Chapter 2: Functions\n",
    "- Chapter 3: Classes and Inheritance\n",
    "- Chapter 4: Metaclasses and Attributes\n",
    "- Chapter 5: Concurrency and Parallelism\n",
    "- Chapter 6: Built-in Modules\n",
    "- Chapter 7: Collaboration\n",
    "- Chapter 8: Production"
   ]
  }
 ],
 "metadata": {
  "kernelspec": {
   "display_name": "Python 3",
   "language": "python",
   "name": "python3"
  },
  "language_info": {
   "codemirror_mode": {
    "name": "ipython",
    "version": 3
   },
   "file_extension": ".py",
   "mimetype": "text/x-python",
   "name": "python",
   "nbconvert_exporter": "python",
   "pygments_lexer": "ipython3",
   "version": "3.7.2"
  }
 },
 "nbformat": 4,
 "nbformat_minor": 2
}
