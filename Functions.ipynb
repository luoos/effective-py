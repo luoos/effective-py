{
 "cells": [
  {
   "cell_type": "markdown",
   "metadata": {},
   "source": [
    "# Functions\n"
   ]
  },
  {
   "cell_type": "markdown",
   "metadata": {},
   "source": [
    "## Item 14: Prefer Exceptions to Returning *None*\n",
    "\n",
    "- Functions that return *None* to indicate special meaning are error prone because *None* and other values (e.g., zero, the empty string) all evaluate to *False* in conditional expressions.\n",
    "- Raise exceptions to indicate special situations instead of returning *None"
   ]
  },
  {
   "cell_type": "code",
   "execution_count": null,
   "metadata": {},
   "outputs": [],
   "source": [
    "def divide(a, b):\n",
    "    try:\n",
    "        return a / b\n",
    "    except ZeroDivisionError:\n",
    "        return None\n",
    "    \n",
    "x, y = 1, 0\n",
    "result = divide(x, y)\n",
    "if result is None:\n",
    "    print('Invalid inputs')  # seems right\n",
    "    \n",
    "# what if the numerator is zero\n",
    "x, y = 0, 5\n",
    "result = divide(x, y)\n",
    "if not result:\n",
    "    print('bug 1')  # bug\n",
    "    \n",
    "# No.1 to fix this\n",
    "def divide_s1(a, b):\n",
    "    try:\n",
    "        return True, a / b\n",
    "    except ZeroDivisionError:\n",
    "        return False, None\n",
    "    \n",
    "success, result = divide_s1(x, y)\n",
    "if not success:\n",
    "    print('Invalid inputs')\n",
    "    \n",
    "# The problem is that callers can easily\n",
    "# ignore the first part of the tuple\n",
    "_, result = divide_s1(x, y)\n",
    "if not result:\n",
    "    print('bug 2')\n",
    "    \n",
    "# No.2 to fix this, never return None\n",
    "def divide_s2(a, b):\n",
    "    try:\n",
    "        return a / b\n",
    "    except ZeroDivisionError as e:\n",
    "        raise ValueError('Invalid inputs') from e\n",
    "\n",
    "x, y = 5, 2\n",
    "try:\n",
    "    result = divide(x, y)\n",
    "except ValueError:\n",
    "    print('Invalid inputs')\n",
    "else:\n",
    "    print(f'Result is {result}')"
   ]
  },
  {
   "cell_type": "code",
   "execution_count": null,
   "metadata": {},
   "outputs": [],
   "source": []
  }
 ],
 "metadata": {
  "kernelspec": {
   "display_name": "Python 3",
   "language": "python",
   "name": "python3"
  },
  "language_info": {
   "codemirror_mode": {
    "name": "ipython",
    "version": 3
   },
   "file_extension": ".py",
   "mimetype": "text/x-python",
   "name": "python",
   "nbconvert_exporter": "python",
   "pygments_lexer": "ipython3",
   "version": "3.7.2"
  }
 },
 "nbformat": 4,
 "nbformat_minor": 2
}
