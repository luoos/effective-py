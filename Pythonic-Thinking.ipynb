{
 "cells": [
  {
   "cell_type": "markdown",
   "metadata": {},
   "source": [
    "# Pythonic Thinking"
   ]
  },
  {
   "cell_type": "markdown",
   "metadata": {},
   "source": [
    "## Item 1: Know Which Version of Python You're Using\n",
    "\n",
    "`python --version` or `python3 --version`"
   ]
  },
  {
   "cell_type": "code",
   "execution_count": null,
   "metadata": {},
   "outputs": [],
   "source": [
    "# Check version at runtime:\n",
    "import sys\n",
    "print(sys.version_info)\n",
    "print('\\n-----\\n')\n",
    "print(sys.version)"
   ]
  },
  {
   "cell_type": "markdown",
   "metadata": {},
   "source": [
    "It's strongly encouraged to use Python3 for future Python projects\n",
    "\n",
    "Popular runtime for Python: CPython, Jython, IronPython, PyPy, etc"
   ]
  },
  {
   "cell_type": "markdown",
   "metadata": {},
   "source": [
    "## Item 2: Follow the PEP 8 Style Guide\n",
    "\n",
    "**PEP 8**: Python Enhancement Proposal #8. It's the style guide for how to format Python code\n",
    "\n",
    "- Whitespace:\n",
    "    - Use spaces instead of tabs for indentation.\n",
    "    - Use four spaces for each level of syntactically significant indenting\n",
    "    - Lines should be 79 characters in length or less\n",
    "    - Continuations of long expressions onto additional lines should be indented by **four extra** space from their normal indentation level\n",
    "    - In a file, functions and classes should be separated by **two blank lines**\n",
    "    - In a class, methods should be separated by **one blank line**\n",
    "    - Put one --- and only one --- space before and after variable assignments\n",
    "- Naming:\n",
    "    - Functions, variable and attributes should be in *lowercase_underscore* format\n",
    "    - Protected instance attributes should be in *_leading_underscore* format\n",
    "    - Private instance attributes should be in *\\__double_leading_underscore* format\n",
    "    - Classes and exceptions should be in *CapitalizedWord* format\n",
    "    - Module-level constants should be in ALL_CAPS format\n",
    "    - Instance methods in classes should use `self` as the name of the first parameter (which refers to the object)\n",
    "    - Class methods should use `cls` as the name of the first parameter (which refers to the class)\n",
    "- Expression and Statement:\n",
    "    - Do: `if a is not b`, don't: `if not a is b`\n",
    "    - Do: `if not somelist`, don't: `if len(somelist) == 0`\n",
    "    - Do: `from bar import foo`, don't: `import foo` ???\n",
    "    - Avoid single-line if statement, for and while loops, and except compound statements. Spread these over multiple line for clarity\n",
    "    - Always put `import` statements at the top of a file\n",
    "    - Imports order: standard library modules, third-party modules, your own modules. Each subsection should have imports in alphabetical order\n",
    "    \n",
    "Static analyzer: [Pylint](http://www.pylint.org)"
   ]
  }
 ],
 "metadata": {
  "kernelspec": {
   "display_name": "Python 3",
   "language": "python",
   "name": "python3"
  },
  "language_info": {
   "codemirror_mode": {
    "name": "ipython",
    "version": 3
   },
   "file_extension": ".py",
   "mimetype": "text/x-python",
   "name": "python",
   "nbconvert_exporter": "python",
   "pygments_lexer": "ipython3",
   "version": "3.7.2"
  }
 },
 "nbformat": 4,
 "nbformat_minor": 2
}
