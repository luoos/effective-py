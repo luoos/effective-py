{
 "cells": [
  {
   "cell_type": "markdown",
   "metadata": {},
   "source": [
    "# Pythonic Thinking\n",
    "\n",
    "- [Item 1: Know Which Version of Python You're Using](#Item-1:-Know-Which-Version-of-Python-You're-Using)\n",
    "- [Item 2: Follow the PEP 8 Style Guide](#Item-2:-Follow-the-PEP-8-Style-Guide)\n",
    "- [Item 3: Know the difference between bytes, str and unicode](#Item-3:-Know-the-difference-between-bytes,-str-and-unicode)\n",
    "- [Item 4: Write Helper Functions Instead of Complex Expressions](#Item-4:-Write-Helper-Functions-Instead-of-Complex-Expressions)\n",
    "- [Item 5: Know How to Slice Sequences](#Item-5:-Know-How-to-Slice-Sequences)\n",
    "- [Item 6: Avoid Using start, end and stride in a Single Slice](#Item-6:-Avoid-Using-start,-end-and-stride-in-a-Single-Slice)\n",
    "- [Item 7: Use List Comprehensions Instead of map and filter](#Item-7:-Use-List-Comprehensions-Instead-of-map-and-filter)\n",
    "- [Item 8: Avoid More Than Two Expressions in List Comprehensions](#Item-8:-Avoid-More-Than-Two-Expressions-in-List-Comprehensions)\n",
    "- [Item 9: Consider Generator Expressions for Large Comprehensions](#Item-9:-Consider-Generator-Expressions-for-Large-Comprehensions)\n",
    "- [Item 10: Prefer enumerate Over range](#Item-10:-Prefer-enumerate-Over-range)\n",
    "- [Item 11: Use zip to Process Iterators in Parallel](#Item-11:-Use-zip-to-Process-Iterators-in-Parallel)\n",
    "- [Item 12: Avoid else Blocks After for and while Loops](#Item-12:-Avoid-else-Blocks-After-for-and-while-Loops)\n",
    "- [Item 13: Take Advantage of Each Block in try/except/else/finally](#Item-13:-Take-Advantage-of-Each-Block-in-try/except/else/finally)"
   ]
  },
  {
   "cell_type": "markdown",
   "metadata": {},
   "source": [
    "## Item 1: Know Which Version of Python You're Using\n",
    "\n",
    "`python --version` or `python3 --version`"
   ]
  },
  {
   "cell_type": "code",
   "execution_count": null,
   "metadata": {},
   "outputs": [],
   "source": [
    "# Check version at runtime:\n",
    "import sys\n",
    "print(sys.version_info)\n",
    "print('\\n-----\\n')\n",
    "print(sys.version)"
   ]
  },
  {
   "cell_type": "markdown",
   "metadata": {},
   "source": [
    "It's strongly encouraged to use Python3 for future Python projects\n",
    "\n",
    "Popular runtime for Python: CPython, Jython, IronPython, PyPy, etc"
   ]
  },
  {
   "cell_type": "markdown",
   "metadata": {},
   "source": [
    "## Item 2: Follow the PEP 8 Style Guide\n",
    "\n",
    "**PEP 8**: Python Enhancement Proposal #8. It's the style guide for how to format Python code\n",
    "\n",
    "- Whitespace:\n",
    "    - Use spaces instead of tabs for indentation.\n",
    "    - Use four spaces for each level of syntactically significant indenting\n",
    "    - Lines should be 79 characters in length or less\n",
    "    - Continuations of long expressions onto additional lines should be indented by **four extra** space from their normal indentation level\n",
    "    - In a file, functions and classes should be separated by **two blank lines**\n",
    "    - In a class, methods should be separated by **one blank line**\n",
    "    - Put one --- and only one --- space before and after variable assignments\n",
    "- Naming:\n",
    "    - Functions, variable and attributes should be in *lowercase_underscore* format\n",
    "    - Protected instance attributes should be in *_leading_underscore* format\n",
    "    - Private instance attributes should be in *\\__double_leading_underscore* format\n",
    "    - Classes and exceptions should be in *CapitalizedWord* format\n",
    "    - Module-level constants should be in ALL_CAPS format\n",
    "    - Instance methods in classes should use `self` as the name of the first parameter (which refers to the object)\n",
    "    - Class methods should use `cls` as the name of the first parameter (which refers to the class)\n",
    "- Expression and Statement:\n",
    "    - Do: `if a is not b`, don't: `if not a is b`\n",
    "    - Do: `if not somelist`, don't: `if len(somelist) == 0`\n",
    "    - Do: `from bar import foo`, don't: `import foo` ???\n",
    "    - Avoid single-line if statement, for and while loops, and except compound statements. Spread these over multiple line for clarity\n",
    "    - Always put `import` statements at the top of a file\n",
    "    - Imports order: standard library modules, third-party modules, your own modules. Each subsection should have imports in alphabetical order\n",
    "    \n",
    "Static analyzer: [Pylint](http://www.pylint.org)"
   ]
  },
  {
   "cell_type": "markdown",
   "metadata": {},
   "source": [
    "## Item 3: Know the difference between bytes, str and unicode\n",
    "\n",
    "In Python3, two types that represent sequences of characters:\n",
    "1. bytes: raw 8-bit values\n",
    "2. str: Unicode characters"
   ]
  },
  {
   "cell_type": "code",
   "execution_count": null,
   "metadata": {},
   "outputs": [],
   "source": [
    "b = b'Royal Caribbean'\n",
    "print(type(b))\n",
    "s = 'Royal Caribbean'\n",
    "print(type(s))\n",
    "\n",
    "decode_b = b.decode('utf-8')\n",
    "print(type(decode_b))\n",
    "encode_s = s.encode('utf-8')\n",
    "print(type(encode_s))"
   ]
  },
  {
   "cell_type": "code",
   "execution_count": null,
   "metadata": {},
   "outputs": [],
   "source": [
    "# Python3 helper functions\n",
    "def to_str(bytes_or_str):\n",
    "    if isinstance(bytes_or_str, bytes):\n",
    "        value = bytes_or_str.decode('utf-8')\n",
    "    else:\n",
    "        value = bytes_or_str\n",
    "    return value  # Instance of str\n",
    "\n",
    "\n",
    "def to_bytes(bytes_or_str):\n",
    "    if isinstance(bytes_or_str, str):\n",
    "        value = bytes_or_str.encode('utf-8')\n",
    "    else:\n",
    "        value = bytes_or_str\n",
    "    return value  # Instance of bytes"
   ]
  },
  {
   "cell_type": "markdown",
   "metadata": {},
   "source": [
    "## Item 4: Write Helper Functions Instead of Complex Expressions\n",
    "\n",
    "Python's pithy syntax makes it easy to write single-line expressions that implement a lot of logic"
   ]
  },
  {
   "cell_type": "code",
   "execution_count": null,
   "metadata": {},
   "outputs": [],
   "source": [
    "from urllib.parse import parse_qs\n",
    "query_parameters = 'red=200&green=12&blue='\n",
    "my_values = parse_qs(query_parameters, keep_blank_values=True)\n",
    "print(repr(my_values))\n",
    "\n",
    "# difficult to read ↓\n",
    "red = my_values.get('red', [''])[0] or 0\n",
    "green = my_values.get('green', [''])[0] or 0\n",
    "blue = my_values.get('blue', [''])[0] or 0\n",
    "\n",
    "# helper function\n",
    "def get_first_int(values, key, default=0):\n",
    "    found = values.get(key, [''])\n",
    "    if found[0]:\n",
    "        found = int(found[0])\n",
    "    else:\n",
    "        found = default\n",
    "    return found\n",
    "\n",
    "red = get_first_int(my_values, 'red')\n",
    "green = get_first_int(my_values, 'green')\n",
    "blue = get_first_int(my_values, 'blue')\n",
    "\n",
    "print('Location:  ', red)\n",
    "print('Date:      ', green)\n",
    "print('Time:      ', blue)"
   ]
  },
  {
   "cell_type": "markdown",
   "metadata": {},
   "source": [
    "As soon as the expressions get complicated, it's time to consider splitting them into smaller pieces and moving logic into helper functions. What you gain in **readability** always outweighs what brevity may have afforded you. Don't ley Python's pithy syntax for complex expressions get you into a mess."
   ]
  },
  {
   "cell_type": "markdown",
   "metadata": {},
   "source": [
    "## Item 5: Know How to Slice Sequences\n",
    "\n",
    "Slicing lets you access a subset of a sequence's items with minimal effort.\n",
    "\n",
    "The simplest uses for slicing are the built-in types `list`, `str` and `bytes`. Slicing can be extended to any Python class that implements the `__getitem__` and `__setitem__` special methods"
   ]
  },
  {
   "cell_type": "code",
   "execution_count": null,
   "metadata": {},
   "outputs": [],
   "source": [
    "# somelist[start:end], where start is inclusive and end is exclusive\n",
    "\n",
    "l = [1, 2, 3, 4, 5, 6, 7, 8]\n",
    "print('First four: ', l[:4])\n",
    "print('Last four: ', l[-4:])\n",
    "print('Middle two: ', l[3:-3])\n",
    "\n",
    "assert l[:5] == l[0:5]  # leave out the 0\n",
    "assert l[3:] == l[3:len(l)]  # leave out the final index\n",
    "\n",
    "print(l[:20])\n",
    "\n",
    "copied_l = l[:]\n",
    "assert copied_l == l and copied_l is not l"
   ]
  },
  {
   "cell_type": "markdown",
   "metadata": {},
   "source": [
    "## Item 6: Avoid Using *start*, *end* and *stride* in a Single Slice"
   ]
  },
  {
   "cell_type": "markdown",
   "metadata": {},
   "source": [
    "The stride part of the slicing syntax can be extremely confusing."
   ]
  },
  {
   "cell_type": "code",
   "execution_count": null,
   "metadata": {},
   "outputs": [],
   "source": [
    "l6 = [0, 1, 2, 3, 4, 5, 6, 7, 8]\n",
    "\n",
    "print(l6[::-1])\n",
    "print(l6[-2::-2])\n",
    "print(l6[2::2])\n",
    "print(l6[1:-1])\n",
    "\n",
    "print(l6[1:4:-2])  # confusing"
   ]
  },
  {
   "cell_type": "markdown",
   "metadata": {},
   "source": [
    "## Item 7: Use List Comprehensions Instead of *map* and *filter*"
   ]
  },
  {
   "cell_type": "markdown",
   "metadata": {},
   "source": [
    "- List comprehensions are clearer than the `map` and `filter` built-in functions because they don't require extra *lambda* expressions\n",
    "- Dictionaries and sets also support comprehesion expressions"
   ]
  },
  {
   "cell_type": "code",
   "execution_count": null,
   "metadata": {},
   "outputs": [],
   "source": [
    "l7 = [0, 1, 2, 3, 4, 5]\n",
    "squares = map(lambda x: x**2, l7)  ## iterator?\n",
    "print(squares)\n",
    "squares_lc = [x**2 for x in l7]  ## easier to read\n",
    "print(squares_lc)\n",
    "\n",
    "even_squares = map(lambda x: x**2, filter(lambda x: x % 2 == 0, l7))\n",
    "print(even_squares)\n",
    "even_squares_lc = [x**2 for x in l7 if x % 2 == 0]\n",
    "print(even_squares_lc)"
   ]
  },
  {
   "cell_type": "code",
   "execution_count": null,
   "metadata": {},
   "outputs": [],
   "source": [
    "site_rank = {'St Martten': 1, 'San Juan': 2, 'Labadee': 3, 'Miami': 1}\n",
    "rank_site = {rank: name for name, rank in site_rank.items()}\n",
    "print(rank_site)"
   ]
  },
  {
   "cell_type": "markdown",
   "metadata": {},
   "source": [
    "## Item 8: Avoid More Than Two Expressions in List Comprehensions\n"
   ]
  },
  {
   "cell_type": "markdown",
   "metadata": {},
   "source": [
    "It can be hard to read if there are more than two expression in list comprehensions."
   ]
  },
  {
   "cell_type": "code",
   "execution_count": null,
   "metadata": {},
   "outputs": [],
   "source": [
    "matrix = [[1, 2, 3], [4, 5, 6], [7, 8, 9]]\n",
    "flat = [x for row in matrix for x in row]  # easy to read\n",
    "print(flat)\n",
    "\n",
    "squared = [[x**2 for x in row] for row in matrix]  # easy to read\n",
    "print(squared)\n",
    "\n",
    "filtered = [[x for x in row if x % 3 == 0]\n",
    "            for row in matrix if sum(row) >= 10]  # hard to read\n",
    "print(filtered)"
   ]
  },
  {
   "cell_type": "markdown",
   "metadata": {},
   "source": [
    "## Item 9: Consider Generator Expressions for Large Comprehensions\n",
    "\n",
    "The problem with list comprehensions is that they may create a whole new list containing one item for each value in the input sequence. This is fine for small inputs, but for large inputs this could consume significant amounts of memory and cause your program to crash.\n",
    "\n",
    "```python\n",
    "value = [len(x) for x in open('file.txt')]\n",
    "```\n",
    "\n",
    "If the file is absolutely enormous or perhaps a never ending network socket, list comprehensions are problematic."
   ]
  },
  {
   "cell_type": "markdown",
   "metadata": {},
   "source": [
    "To solve this, Python provides *generator expressions*, a generalization of list comprehensions and generators."
   ]
  },
  {
   "cell_type": "code",
   "execution_count": null,
   "metadata": {},
   "outputs": [],
   "source": [
    "words = ['Caribbean', 'Ocean', 'San Juan', 'Labadee']\n",
    "it = (len(x) for x in words)\n",
    "print(it)\n",
    "print(next(it))\n",
    "for i in it:\n",
    "    print(i)"
   ]
  },
  {
   "cell_type": "markdown",
   "metadata": {},
   "source": [
    "## Item 10: Prefer *enumerate* Over *range*\n",
    "\n",
    "Often, you'll want to iterate over a list and also know the index of the current item in the list."
   ]
  },
  {
   "cell_type": "code",
   "execution_count": null,
   "metadata": {},
   "outputs": [],
   "source": [
    "island_list = ['St Marteen', 'San Juan', 'Labadee']\n",
    "for i, island in enumerate(island_list):\n",
    "    print(f'{i}: {island}')\n",
    "print('---')\n",
    "for i, island in enumerate(island_list, 2):  # index starts from 2\n",
    "    print(f'{i}: {island}')"
   ]
  },
  {
   "cell_type": "markdown",
   "metadata": {},
   "source": [
    "## Item 11: Use *zip* to Process Iterators in Parallel"
   ]
  },
  {
   "cell_type": "code",
   "execution_count": null,
   "metadata": {},
   "outputs": [],
   "source": [
    "# find the longest name\n",
    "names = ['Cecilia', 'Lise', 'Marie']\n",
    "letters = [len(n) for n in names]\n",
    "\n",
    "longest_name = None\n",
    "max_letters = 0\n",
    "\n",
    "# visually noisy\n",
    "for i in range(len(names)):\n",
    "    count = letters[i]\n",
    "    if count > max_letters:\n",
    "        longest_name = names[i]\n",
    "        max_letters = count\n",
    "print(longest_name)\n",
    "\n",
    "# better\n",
    "for i, name in enumerate(names):\n",
    "    count = letters[i]\n",
    "    if count > max_letters:\n",
    "        longest_name = name\n",
    "        max_letter = count\n",
    "print(longest_name)\n",
    "        \n",
    "# use zip\n",
    "for name, count in zip(names, letters):\n",
    "    if count > max_letter:\n",
    "        longest_name = name\n",
    "        max_letters = count\n",
    "print(longest_name)    "
   ]
  },
  {
   "cell_type": "code",
   "execution_count": null,
   "metadata": {},
   "outputs": [],
   "source": [
    "# zip keeps yielding tuples until a wrapped iterator is exhausted\n",
    "names = ['Cecilia', 'Lise', 'Marie']\n",
    "letters = [len(n) for n in names]\n",
    "names.append('Mike')  # !! different length\n",
    "for name, count in zip(names, letters):\n",
    "    print(name)"
   ]
  },
  {
   "cell_type": "markdown",
   "metadata": {},
   "source": [
    "## Item 12: Avoid *else* Blocks After *for* and *while* Loops\n",
    "\n",
    "It is counterintuitive and can be confusing.\n",
    "\n",
    "The *else* block after a loop only runs if the loop body did not encounter a break statement."
   ]
  },
  {
   "cell_type": "code",
   "execution_count": null,
   "metadata": {},
   "outputs": [],
   "source": [
    "for i in range(3):\n",
    "    print(f'Loop {i}')\n",
    "else:\n",
    "    print('Else block!')"
   ]
  },
  {
   "cell_type": "code",
   "execution_count": null,
   "metadata": {},
   "outputs": [],
   "source": [
    "# Using a break statement in a loop\n",
    "# will actually skip the else block\n",
    "for i in range(3):\n",
    "    print(f'Loop {i}')\n",
    "    if i == 1:\n",
    "        break\n",
    "else:\n",
    "    print('Not Run')  # doesn't run"
   ]
  },
  {
   "cell_type": "code",
   "execution_count": null,
   "metadata": {},
   "outputs": [],
   "source": [
    "for x in []:\n",
    "    print('Never runs')\n",
    "else:\n",
    "    print('Will run')"
   ]
  },
  {
   "cell_type": "code",
   "execution_count": null,
   "metadata": {},
   "outputs": [],
   "source": [
    "while False:\n",
    "    print('Never runs')\n",
    "else:\n",
    "    print('Will run')"
   ]
  },
  {
   "cell_type": "markdown",
   "metadata": {},
   "source": [
    "## Item 13: Take Advantage of Each Block in try/except/else/finally\n",
    "\n",
    "### Finally Blocks\n",
    "Use *try/finally* when you want exceptions to propagate up, but you also want to run cleanup code even when exceptions occur. One common usage of *try/finally* is for reliably closing file handles.\n",
    "\n",
    "```python\n",
    "handle = open('file.txt')\n",
    "try:\n",
    "    data = handle.read()\n",
    "finally:\n",
    "    handle.close()\n",
    "```"
   ]
  },
  {
   "cell_type": "markdown",
   "metadata": {},
   "source": [
    "### Else Blocks\n",
    "\n",
    "Use *try/except/else* to make it clear which exceptions will be handled by your code and which exceptions will propagate up. When the *try* block doesn't raise an exception, the *else* block will run. The *else* block helps you minimize the amount of code in the *try* block and improves readability.\n",
    "\n",
    "```python\n",
    "def load_json_key(data, key):\n",
    "    try:\n",
    "        result_dict = json.loads(data)  # May raise ValueError\n",
    "    except ValueError as e:\n",
    "        raise KeyError from e\n",
    "    else:\n",
    "        return result_dict[key]  # May raise KeyError\n",
    "```"
   ]
  },
  {
   "cell_type": "markdown",
   "metadata": {},
   "source": [
    "### Everything Together\n",
    "\n",
    "Use *try/except/else/finally* when you want to do it all in one compound.\n",
    "\n",
    "```python\n",
    "UNDEFINED = object()\n",
    "\n",
    "def divide_json(path):\n",
    "    handle = open(path, 'r+')\n",
    "    try:\n",
    "        data = handle.read()\n",
    "        op = json.loads(data)\n",
    "        value = (\n",
    "            op['numerator'] /\n",
    "            op['denominator'])\n",
    "    except ZeroDivisionError as e:\n",
    "        return UNDEFINED\n",
    "    else:\n",
    "        op['result'] = value\n",
    "        result = json.dumps(op)\n",
    "        handle.seek(0)\n",
    "        handle.write(result)\n",
    "        return value\n",
    "    finally:\n",
    "        handle.close()\n",
    "```\n",
    "\n",
    "This layout is especially useful because all of the blocks work together in intuitive ways."
   ]
  }
 ],
 "metadata": {
  "kernelspec": {
   "display_name": "Python 3",
   "language": "python",
   "name": "python3"
  },
  "language_info": {
   "codemirror_mode": {
    "name": "ipython",
    "version": 3
   },
   "file_extension": ".py",
   "mimetype": "text/x-python",
   "name": "python",
   "nbconvert_exporter": "python",
   "pygments_lexer": "ipython3",
   "version": "3.7.2"
  }
 },
 "nbformat": 4,
 "nbformat_minor": 2
}
