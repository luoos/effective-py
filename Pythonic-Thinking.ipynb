{
 "cells": [
  {
   "cell_type": "markdown",
   "metadata": {},
   "source": [
    "# Pythonic Thinking\n",
    "\n",
    "- [Item 1: Know Which Version of Python You're Using](#Item-1:-Know-Which-Version-of-Python-You're-Using)\n",
    "- [Item 2: Follow the PEP 8 Style Guide](#Item-2:-Follow-the-PEP-8-Style-Guide)\n",
    "- [Item 3: Know the difference between bytes, str and unicode](#Item-3:-Know-the-difference-between-bytes,-str-and-unicode)\n",
    "- [Item 4: Write Helper Functions Instead of Complex Expressions](#Item-4:-Write-Helper-Functions-Instead-of-Complex-Expressions)"
   ]
  },
  {
   "cell_type": "markdown",
   "metadata": {},
   "source": [
    "## Item 1: Know Which Version of Python You're Using\n",
    "\n",
    "`python --version` or `python3 --version`"
   ]
  },
  {
   "cell_type": "code",
   "execution_count": null,
   "metadata": {},
   "outputs": [],
   "source": [
    "# Check version at runtime:\n",
    "import sys\n",
    "print(sys.version_info)\n",
    "print('\\n-----\\n')\n",
    "print(sys.version)"
   ]
  },
  {
   "cell_type": "markdown",
   "metadata": {},
   "source": [
    "It's strongly encouraged to use Python3 for future Python projects\n",
    "\n",
    "Popular runtime for Python: CPython, Jython, IronPython, PyPy, etc"
   ]
  },
  {
   "cell_type": "markdown",
   "metadata": {},
   "source": [
    "## Item 2: Follow the PEP 8 Style Guide\n",
    "\n",
    "**PEP 8**: Python Enhancement Proposal #8. It's the style guide for how to format Python code\n",
    "\n",
    "- Whitespace:\n",
    "    - Use spaces instead of tabs for indentation.\n",
    "    - Use four spaces for each level of syntactically significant indenting\n",
    "    - Lines should be 79 characters in length or less\n",
    "    - Continuations of long expressions onto additional lines should be indented by **four extra** space from their normal indentation level\n",
    "    - In a file, functions and classes should be separated by **two blank lines**\n",
    "    - In a class, methods should be separated by **one blank line**\n",
    "    - Put one --- and only one --- space before and after variable assignments\n",
    "- Naming:\n",
    "    - Functions, variable and attributes should be in *lowercase_underscore* format\n",
    "    - Protected instance attributes should be in *_leading_underscore* format\n",
    "    - Private instance attributes should be in *\\__double_leading_underscore* format\n",
    "    - Classes and exceptions should be in *CapitalizedWord* format\n",
    "    - Module-level constants should be in ALL_CAPS format\n",
    "    - Instance methods in classes should use `self` as the name of the first parameter (which refers to the object)\n",
    "    - Class methods should use `cls` as the name of the first parameter (which refers to the class)\n",
    "- Expression and Statement:\n",
    "    - Do: `if a is not b`, don't: `if not a is b`\n",
    "    - Do: `if not somelist`, don't: `if len(somelist) == 0`\n",
    "    - Do: `from bar import foo`, don't: `import foo` ???\n",
    "    - Avoid single-line if statement, for and while loops, and except compound statements. Spread these over multiple line for clarity\n",
    "    - Always put `import` statements at the top of a file\n",
    "    - Imports order: standard library modules, third-party modules, your own modules. Each subsection should have imports in alphabetical order\n",
    "    \n",
    "Static analyzer: [Pylint](http://www.pylint.org)"
   ]
  },
  {
   "cell_type": "markdown",
   "metadata": {},
   "source": [
    "## Item 3: Know the difference between bytes, str and unicode\n",
    "\n",
    "In Python3, two types that represent sequences of characters:\n",
    "1. bytes: raw 8-bit values\n",
    "2. str: Unicode characters"
   ]
  },
  {
   "cell_type": "code",
   "execution_count": null,
   "metadata": {},
   "outputs": [],
   "source": [
    "b = b'Royal Caribbean'\n",
    "print(type(b))\n",
    "s = 'Royal Caribbean'\n",
    "print(type(s))\n",
    "\n",
    "decode_b = b.decode('utf-8')\n",
    "print(type(decode_b))\n",
    "encode_s = s.encode('utf-8')\n",
    "print(type(encode_s))"
   ]
  },
  {
   "cell_type": "code",
   "execution_count": null,
   "metadata": {},
   "outputs": [],
   "source": [
    "# Python3 helper functions\n",
    "def to_str(bytes_or_str):\n",
    "    if isinstance(bytes_or_str, bytes):\n",
    "        value = bytes_or_str.decode('utf-8')\n",
    "    else:\n",
    "        value = bytes_or_str\n",
    "    return value  # Instance of str\n",
    "\n",
    "\n",
    "def to_bytes(bytes_or_str):\n",
    "    if isinstance(bytes_or_str, str):\n",
    "        value = bytes_or_str.encode('utf-8')\n",
    "    else:\n",
    "        value = bytes_or_str\n",
    "    return value  # Instance of bytes"
   ]
  },
  {
   "cell_type": "markdown",
   "metadata": {},
   "source": [
    "## Item 4: Write Helper Functions Instead of Complex Expressions\n",
    "\n",
    "Python's pithy syntax makes it easy to write single-line expressions that implement a lot of logic"
   ]
  },
  {
   "cell_type": "code",
   "execution_count": null,
   "metadata": {},
   "outputs": [],
   "source": [
    "from urllib.parse import parse_qs\n",
    "query_parameters = 'red=200&green=12&blue='\n",
    "my_values = parse_qs(query_parameters, keep_blank_values=True)\n",
    "print(repr(my_values))\n",
    "\n",
    "# difficult to read ↓\n",
    "red = my_values.get('red', [''])[0] or 0\n",
    "green = my_values.get('green', [''])[0] or 0\n",
    "blue = my_values.get('blue', [''])[0] or 0\n",
    "\n",
    "# helper function\n",
    "def get_first_int(values, key, default=0):\n",
    "    found = values.get(key, [''])\n",
    "    if found[0]:\n",
    "        found = int(found[0])\n",
    "    else:\n",
    "        found = default\n",
    "    return found\n",
    "\n",
    "red = get_first_int(my_values, 'red')\n",
    "green = get_first_int(my_values, 'green')\n",
    "blue = get_first_int(my_values, 'blue')\n",
    "\n",
    "print('Location:  ', red)\n",
    "print('Date:      ', green)\n",
    "print('Time:      ', blue)"
   ]
  },
  {
   "cell_type": "markdown",
   "metadata": {},
   "source": [
    "As soon as the expressions get complicated, it's time to consider splitting them into smaller pieces and moving logic into helper functions. What you gain in **readability** always outweighs what brevity may have afforded you. Don't ley Python's pithy syntax for complex expressions get you into a mess."
   ]
  }
 ],
 "metadata": {
  "kernelspec": {
   "display_name": "Python 3",
   "language": "python",
   "name": "python3"
  },
  "language_info": {
   "codemirror_mode": {
    "name": "ipython",
    "version": 3
   },
   "file_extension": ".py",
   "mimetype": "text/x-python",
   "name": "python",
   "nbconvert_exporter": "python",
   "pygments_lexer": "ipython3",
   "version": "3.7.2"
  }
 },
 "nbformat": 4,
 "nbformat_minor": 2
}
