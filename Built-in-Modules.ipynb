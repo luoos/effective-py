{
 "cells": [
  {
   "cell_type": "markdown",
   "metadata": {},
   "source": [
    "# Built-in Modules"
   ]
  },
  {
   "cell_type": "markdown",
   "metadata": {},
   "source": [
    "- [Item 42: Define Function Decorators with *functools.wraps*](http://localhost:8888/notebooks/Built-in-Modules.ipynb#Item-42:-Define-Function-Decorators-with-functools.wraps)\n",
    "- [Item 43: Consider *contextlib* and *with* Statements for Resuable try/finally Behavior](#Item-43:-Consider-contextlib-and-with-Statements-for-Resuable-try/finally-Behavior)\n",
    "- [Item 44: Make *pickle* Reliable with *copyreg*](#Item-44:-Make-pickle-Reliable-with-copyreg)\n",
    "- [Item 45: Use datetime Instead of time for Local Clocks](#Item-45:-Use-datetime-Instead-of-time-for-Local-Clocks)\n",
    "- [Item 46: Use Built-in Algorithms and Data Structures](#Item-46:-Use-Built-in-Algorithms-and-Data-Structures)\n",
    "- [Item 47: Use decimal When Precision Is Paramount](#Item-47:-Use-decimal-When-Precision-Is-Paramount)"
   ]
  },
  {
   "cell_type": "markdown",
   "metadata": {},
   "source": [
    "## Item 42: Define Function Decorators with *functools.wraps*"
   ]
  },
  {
   "cell_type": "code",
   "execution_count": null,
   "metadata": {},
   "outputs": [],
   "source": [
    "def trace(func):\n",
    "    def wrapper(*args, **kwargs):\n",
    "        result = func(*args, **kwargs)\n",
    "        print('%s(%r, %r) -> %r' %\n",
    "              (func.__name__, args, kwargs, result))\n",
    "        return result\n",
    "    return wrapper\n",
    "\n",
    "@trace\n",
    "def fibonacci(n):\n",
    "    \"\"\"Return the n-th Fibonacci number\"\"\"\n",
    "    if n in (0, 1):\n",
    "        return n\n",
    "    return (fibonacci(n - 2) + fibonacci(n - 1))\n",
    "\n",
    "fibonacci(3)\n",
    "\n",
    "print(fibonacci)\n",
    "help(fibonacci)\n",
    "\n",
    "from functools import wraps\n",
    "\n",
    "def trace(func):\n",
    "    @wraps(func)\n",
    "    def wrapper(*args, **kwargs):\n",
    "        result = func(*args, **kwargs)\n",
    "        print('%s(%r, %r) -> %r' %\n",
    "              (func.__name__, args, kwargs, result))\n",
    "        return result\n",
    "    return wrapper\n",
    "\n",
    "@trace\n",
    "def fibonacci(n):\n",
    "    \"\"\"Return the n-th Fibonacci number\"\"\"\n",
    "    if n in (0, 1):\n",
    "        return n\n",
    "    return (fibonacci(n - 2) + fibonacci(n - 1))\n",
    "\n",
    "# fibonacci = trace(fibonacci)\n",
    "\n",
    "print(fibonacci)\n",
    "help(fibonacci)"
   ]
  },
  {
   "cell_type": "markdown",
   "metadata": {},
   "source": [
    "### Things to Remember\n",
    "\n",
    "- Decorators are Python syntax for allowing one function to modify another function at runtime.\n",
    "- Using decorators can cause strange behaviors in tools that do introspection, such as debuggers.\n",
    "- Use the **wraps** decorator from the **functools** built-in module when you define your own decorators to avoid any issues."
   ]
  },
  {
   "cell_type": "markdown",
   "metadata": {},
   "source": [
    "## Item 43: Consider *contextlib* and *with* Statements for Resuable *try/finally* Behavior"
   ]
  },
  {
   "cell_type": "code",
   "execution_count": null,
   "metadata": {},
   "outputs": [],
   "source": [
    "from threading import Lock\n",
    "\n",
    "lock = Lock()\n",
    "with lock:\n",
    "    print('Lock is held')\n",
    "    \n",
    "# equivalent\n",
    "lock.acquire()\n",
    "try:\n",
    "    print('Lock is held')\n",
    "finally:\n",
    "    lock.release()"
   ]
  },
  {
   "cell_type": "markdown",
   "metadata": {},
   "source": [
    "The **with** statement version of this is better because it eliminates the need to write the repetitive code of the **try/finally** construction."
   ]
  },
  {
   "cell_type": "code",
   "execution_count": null,
   "metadata": {},
   "outputs": [],
   "source": [
    "import logging\n",
    "\n",
    "def my_function():\n",
    "    logging.debug('Some debug data')\n",
    "    logging.error('Error log here')\n",
    "    logging.debug('More debug data')\n",
    "    \n",
    "my_function()\n",
    "\n",
    "from contextlib import contextmanager\n",
    "\n",
    "@contextmanager\n",
    "def debug_logging(level):\n",
    "    logger = logging.getLogger()\n",
    "    old_level = logger.getEffectiveLevel()\n",
    "    logger.setLevel(level)\n",
    "    try:\n",
    "        yield\n",
    "    finally:\n",
    "        logger.setLevel(old_level)\n",
    "        \n",
    "\"\"\"\n",
    "The yield expression is the point at which \n",
    "the with block's contents will execute.\n",
    "Any exceptions that happen in the with block\n",
    "with be re-raised by the yield expression for\n",
    "you to catch in the helper function\n",
    "\"\"\"\n",
    "\n",
    "with debug_logging(logging.DEBUG):\n",
    "    logging.info('Inside')\n",
    "    my_function()\n",
    "logging.warning('After')\n",
    "my_function()"
   ]
  },
  {
   "cell_type": "code",
   "execution_count": null,
   "metadata": {},
   "outputs": [],
   "source": [
    "from contextlib import contextmanager\n",
    "\n",
    "@contextmanager\n",
    "def log_level(level, name):\n",
    "    logger = logging.getLogger(name)\n",
    "    old_level = logger.getEffectiveLevel()\n",
    "    logger.setLevel(level)\n",
    "    try:\n",
    "        yield logger\n",
    "    finally:\n",
    "        logger.setLevel(old_level)\n",
    "        \n",
    "with log_level(logging.DEBUG, 'my-log') as logger:\n",
    "    logger.debug('This is my message')\n",
    "    logging.debug('This will not print')\n",
    "\n",
    "logger = logging.getLogger('my-log')\n",
    "logger.debug('Debug will not print')\n",
    "logger.error('Error will print')"
   ]
  },
  {
   "cell_type": "markdown",
   "metadata": {},
   "source": [
    "### Things to Remember\n",
    "\n",
    "- The **with** statement allows you to reuse logic from **try/finally** blocks and reduce visual noise.\n",
    "- The **contextlib** built-in module provides a **contextmanager** decorator that makes it easy to use your own functions in **with** statements.\n",
    "- The value yielded by context managers is supplied to the as part of the **with** statement. It's useful for letting your code directly access the cause of the special context."
   ]
  },
  {
   "cell_type": "markdown",
   "metadata": {},
   "source": [
    "## Item 44: Make *pickle* Reliable with *copyreg*\n",
    "\n",
    "The pickle built-in module can serialize Python objects into a stream of bytes and deserialize bytes back into objects.\n",
    "\n",
    "The **pickle** module's serialization format is unsafe by design. In contrast, the **json** module is safe by design."
   ]
  },
  {
   "cell_type": "code",
   "execution_count": null,
   "metadata": {},
   "outputs": [],
   "source": [
    "class GameState(object):\n",
    "    def __init__(self, level=0, lives=4, points=0):\n",
    "        self.level = level\n",
    "        self.lives = lives\n",
    "        self.points = points\n",
    "        \n",
    "def unpickle_game_state(kwargs):\n",
    "    version = kwargs.pop('version', 1)\n",
    "    if version == 1:\n",
    "        kwargs.pop('lives')\n",
    "    return GameState(**kwargs)\n",
    "\n",
    "def pickle_game_state(game_state):\n",
    "    kwargs = game_state.__dict__\n",
    "    kwargs['version'] = 2  # Versioning Classes\n",
    "    return unpickle_game_state, (kwargs,)\n",
    "\n",
    "import copyreg, pickle\n",
    "\n",
    "copyreg.pickle(GameState, pickle_game_state)\n",
    "\n",
    "state = GameState()\n",
    "state.points += 1000\n",
    "serialized = pickle.dumps(state)\n",
    "state_after = pickle.loads(serialized)\n",
    "print(state_after.__dict__)"
   ]
  },
  {
   "cell_type": "markdown",
   "metadata": {},
   "source": [
    "### Things to Remember\n",
    "\n",
    "- The *pickle* built-in module is only useful for serializing and deserializing objects between trusted programs.\n",
    "- The *pickle* module may break down when used for more than trivial use cases.\n",
    "- Use the *copyreg* built-in module with *pickle* to add missing attribute values, allow versioning of classes, and provide stable import path."
   ]
  },
  {
   "cell_type": "markdown",
   "metadata": {},
   "source": [
    "## Item 45: Use *datetime* Instead of *time* for Local Clocks\n",
    "\n",
    "Coordinated Universal Time (UTC) is the standard, time-zone-independent representation of time. UTC works great for computers that represent time as seconds since the UNIX epoch. But UTC isn't ideal for humans. Humans reference time relative to where they're currently located.\n",
    "\n",
    "Python provides two ways of accomplishing time zone conversions. The old way, using the *time* built-in module, is disastrously error prone. The new way, using the *datetime* built-in module, works great with some help from the community-buit package named *pytz*."
   ]
  },
  {
   "cell_type": "markdown",
   "metadata": {},
   "source": [
    "## Item 46: Use Built-in Algorithms and Data Structures"
   ]
  },
  {
   "cell_type": "markdown",
   "metadata": {},
   "source": [
    "### Double-ended Queue"
   ]
  },
  {
   "cell_type": "code",
   "execution_count": null,
   "metadata": {},
   "outputs": [],
   "source": [
    "from collections import deque\n",
    "\n",
    "fifo = deque()\n",
    "fifo.append(1)      # Producer\n",
    "x = fifo.popleft()  # Consumer"
   ]
  },
  {
   "cell_type": "markdown",
   "metadata": {},
   "source": [
    "*deque* provides constant time operations for inserting or removing items from its beginning or end.\n",
    "\n",
    "For the *list* built-in type, inserting or removing items from the end of a list in constant time, while inserting or removing items from the head of a list takes linear time."
   ]
  },
  {
   "cell_type": "markdown",
   "metadata": {},
   "source": [
    "### Ordered Dictionary\n",
    "\n",
    "Standard dictionaries are unordered. That means a *dict* with the same keys and values can result in different orders of iteration.\n",
    "\n",
    "The *OrderedDict* class from the *collections* module is a special type of dictionary that keeps track of the order in which its keys were inserted."
   ]
  },
  {
   "cell_type": "code",
   "execution_count": null,
   "metadata": {},
   "outputs": [],
   "source": [
    "from collections import OrderedDict\n",
    "\n",
    "a = OrderedDict()\n",
    "a['bar'] = 1\n",
    "a['foo'] = 2\n",
    "b = OrderedDict()\n",
    "b['foo'] = 'one'\n",
    "b['bar'] = 'two'\n",
    "\n",
    "for value1, value2 in zip(a.values(), b.values()):\n",
    "    print(value1, value2)"
   ]
  },
  {
   "cell_type": "markdown",
   "metadata": {},
   "source": [
    "### Default Dictionary\n",
    "\n",
    "One probem with dictionaries is that you can't assume any keys are already present. That makes it clumsy to do simple things like increment a counter stored in a dictionary."
   ]
  },
  {
   "cell_type": "code",
   "execution_count": null,
   "metadata": {},
   "outputs": [],
   "source": [
    "stats = {}\n",
    "key = 'my_counter'\n",
    "if key not in stats:\n",
    "    stats[key] = 0\n",
    "stats[key] += 1\n",
    "\n",
    "print(stats)"
   ]
  },
  {
   "cell_type": "markdown",
   "metadata": {},
   "source": [
    "The *defaultdict* class from collections module simplifies this by automatically storing a default value when a key doesn't exist. All you have to do is provide a function that will return the default value each time a key is missing."
   ]
  },
  {
   "cell_type": "code",
   "execution_count": null,
   "metadata": {},
   "outputs": [],
   "source": [
    "from collections import defaultdict\n",
    "\n",
    "stats = defaultdict(int)\n",
    "stats['my_counter'] += 1\n",
    "\n",
    "print(stats)"
   ]
  },
  {
   "cell_type": "markdown",
   "metadata": {},
   "source": [
    "### Heap Queue"
   ]
  },
  {
   "cell_type": "code",
   "execution_count": null,
   "metadata": {},
   "outputs": [],
   "source": [
    "from heapq import heappush, heappop, nsmallest\n",
    "\n",
    "a = []\n",
    "heappush(a, 3)\n",
    "heappush(a, 7)\n",
    "heappush(a, 5)\n",
    "\n",
    "print(nsmallest(2, a))\n",
    "\n",
    "print(heappop(a), heappop(a), heappop(a))"
   ]
  },
  {
   "cell_type": "markdown",
   "metadata": {},
   "source": [
    "Each of these *heapq* operations takes logarithmic time in proportion to the length of the list. Doing the same work with a standard Python list would scale linearly."
   ]
  },
  {
   "cell_type": "markdown",
   "metadata": {},
   "source": [
    "### Bisection"
   ]
  },
  {
   "cell_type": "code",
   "execution_count": null,
   "metadata": {},
   "outputs": [],
   "source": [
    "from bisect import bisect_left\n",
    "from timeit import timeit\n",
    "\n",
    "x = list(range(10**6))\n",
    "i = x.index(991234)  # linear\n",
    "i = bisect_left(x, 991234)  # logarithmic"
   ]
  },
  {
   "cell_type": "markdown",
   "metadata": {},
   "source": [
    "### Iterator Tools\n",
    "\n",
    "The *itertools* function fall into three main categories:\n",
    "\n",
    "- Linking iterators together\n",
    "    - *chain*: Combines multiple iterators into a single sequential iterator.\n",
    "    - *cycle*: Repeats an iterator's items forever.\n",
    "    - *tee*: Splits a single iterator into multiple parallel iterators.\n",
    "    - *zip_longest*: A variant of the *zip* built-in function that works well with iterators of different lengths.\n",
    "- Filtering items from an iterator\n",
    "    - *islice*: Slices an iterator by numerical indexes without copying.\n",
    "    - *takewhile*: Returns items from an iterator while a predicate function return *True*.\n",
    "    - *dropwhile*: Return items from an iterator once the predicate function return *False* for the first time.\n",
    "    - *filterfalse*: Return all items from an iterator where a predicate function return *False*. The opposite of the *filter* built-in function.\n",
    "- Combinations of items from iterators\n",
    "    - *product*: Returns the Cartesian product of items from an iterator, which is a nice alternative to deeply nested list comprehensions.\n",
    "    - *permutations*: Returns ordered permutations of length N with items from an iterator.\n",
    "    - *combination*: Return the unordered combinations of length N with unrepeated items from an iterator."
   ]
  },
  {
   "cell_type": "markdown",
   "metadata": {},
   "source": [
    "### Things to Remember\n",
    "\n",
    "- Use Python-s built-in modules for algorithms and data structures.\n",
    "- Don't reimplement this functionality yourself. It's hard to get right."
   ]
  },
  {
   "cell_type": "markdown",
   "metadata": {},
   "source": [
    "## Item 47: Use *decimal* When Precision Is Paramount"
   ]
  },
  {
   "cell_type": "code",
   "execution_count": null,
   "metadata": {},
   "outputs": [],
   "source": [
    "from decimal import Decimal, ROUND_UP\n",
    "\n",
    "rate = Decimal('0.005')\n",
    "seconds = Decimal('5')\n",
    "cost = rate * seconds / Decimal('60')\n",
    "print(cost)\n",
    "rounded = cost.quantize(Decimal('0.01'), rounding=ROUND_UP)\n",
    "print(rounded)"
   ]
  },
  {
   "cell_type": "markdown",
   "metadata": {},
   "source": [
    "### Things to Remember\n",
    "\n",
    "- Python has built-in types and classes in modules that can represent practically every type of numerical value.\n",
    "- The *Decimal* class is ideal for situations that require high precision and exact rounding behavior, such as computations of monetary values."
   ]
  }
 ],
 "metadata": {
  "kernelspec": {
   "display_name": "Python 3",
   "language": "python",
   "name": "python3"
  },
  "language_info": {
   "codemirror_mode": {
    "name": "ipython",
    "version": 3
   },
   "file_extension": ".py",
   "mimetype": "text/x-python",
   "name": "python",
   "nbconvert_exporter": "python",
   "pygments_lexer": "ipython3",
   "version": "3.7.3"
  }
 },
 "nbformat": 4,
 "nbformat_minor": 2
}
