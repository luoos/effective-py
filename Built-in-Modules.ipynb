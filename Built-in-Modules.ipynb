{
 "cells": [
  {
   "cell_type": "markdown",
   "metadata": {},
   "source": [
    "# Built-in Modules"
   ]
  },
  {
   "cell_type": "markdown",
   "metadata": {},
   "source": [
    "- [Item 42: Define Function Decorators with *functools.wraps*](http://localhost:8888/notebooks/Built-in-Modules.ipynb#Item-42:-Define-Function-Decorators-with-functools.wraps)\n",
    "- [Item 43: Consider *contextlib* and *with* Statements for Resuable try/finally Behavior](#Item-43:-Consider-contextlib-and-with-Statements-for-Resuable-try/finally-Behavior)\n",
    "- [Item 44: Make *pickle* Reliable with *copyreg*](#Item-44:-Make-pickle-Reliable-with-copyreg)"
   ]
  },
  {
   "cell_type": "markdown",
   "metadata": {},
   "source": [
    "## Item 42: Define Function Decorators with *functools.wraps*"
   ]
  },
  {
   "cell_type": "code",
   "execution_count": null,
   "metadata": {},
   "outputs": [],
   "source": [
    "def trace(func):\n",
    "    def wrapper(*args, **kwargs):\n",
    "        result = func(*args, **kwargs)\n",
    "        print('%s(%r, %r) -> %r' %\n",
    "              (func.__name__, args, kwargs, result))\n",
    "        return result\n",
    "    return wrapper\n",
    "\n",
    "@trace\n",
    "def fibonacci(n):\n",
    "    \"\"\"Return the n-th Fibonacci number\"\"\"\n",
    "    if n in (0, 1):\n",
    "        return n\n",
    "    return (fibonacci(n - 2) + fibonacci(n - 1))\n",
    "\n",
    "fibonacci(3)\n",
    "\n",
    "print(fibonacci)\n",
    "help(fibonacci)\n",
    "\n",
    "from functools import wraps\n",
    "\n",
    "def trace(func):\n",
    "    @wraps(func)\n",
    "    def wrapper(*args, **kwargs):\n",
    "        result = func(*args, **kwargs)\n",
    "        print('%s(%r, %r) -> %r' %\n",
    "              (func.__name__, args, kwargs, result))\n",
    "        return result\n",
    "    return wrapper\n",
    "\n",
    "@trace\n",
    "def fibonacci(n):\n",
    "    \"\"\"Return the n-th Fibonacci number\"\"\"\n",
    "    if n in (0, 1):\n",
    "        return n\n",
    "    return (fibonacci(n - 2) + fibonacci(n - 1))\n",
    "\n",
    "# fibonacci = trace(fibonacci)\n",
    "\n",
    "print(fibonacci)\n",
    "help(fibonacci)"
   ]
  },
  {
   "cell_type": "markdown",
   "metadata": {},
   "source": [
    "### Things to Remember\n",
    "\n",
    "- Decorators are Python syntax for allowing one function to modify another function at runtime.\n",
    "- Using decorators can cause strange behaviors in tools that do introspection, such as debuggers.\n",
    "- Use the **wraps** decorator from the **functools** built-in module when you define your own decorators to avoid any issues."
   ]
  },
  {
   "cell_type": "markdown",
   "metadata": {},
   "source": [
    "## Item 43: Consider *contextlib* and *with* Statements for Resuable *try/finally* Behavior"
   ]
  },
  {
   "cell_type": "code",
   "execution_count": null,
   "metadata": {},
   "outputs": [],
   "source": [
    "from threading import Lock\n",
    "\n",
    "lock = Lock()\n",
    "with lock:\n",
    "    print('Lock is held')\n",
    "    \n",
    "# equivalent\n",
    "lock.acquire()\n",
    "try:\n",
    "    print('Lock is held')\n",
    "finally:\n",
    "    lock.release()"
   ]
  },
  {
   "cell_type": "markdown",
   "metadata": {},
   "source": [
    "The **with** statement version of this is better because it eliminates the need to write the repetitive code of the **try/finally** construction."
   ]
  },
  {
   "cell_type": "code",
   "execution_count": null,
   "metadata": {},
   "outputs": [],
   "source": [
    "import logging\n",
    "\n",
    "def my_function():\n",
    "    logging.debug('Some debug data')\n",
    "    logging.error('Error log here')\n",
    "    logging.debug('More debug data')\n",
    "    \n",
    "my_function()\n",
    "\n",
    "from contextlib import contextmanager\n",
    "\n",
    "@contextmanager\n",
    "def debug_logging(level):\n",
    "    logger = logging.getLogger()\n",
    "    old_level = logger.getEffectiveLevel()\n",
    "    logger.setLevel(level)\n",
    "    try:\n",
    "        yield\n",
    "    finally:\n",
    "        logger.setLevel(old_level)\n",
    "        \n",
    "\"\"\"\n",
    "The yield expression is the point at which \n",
    "the with block's contents will execute.\n",
    "Any exceptions that happen in the with block\n",
    "with be re-raised by the yield expression for\n",
    "you to catch in the helper function\n",
    "\"\"\"\n",
    "\n",
    "with debug_logging(logging.DEBUG):\n",
    "    logging.info('Inside')\n",
    "    my_function()\n",
    "logging.warning('After')\n",
    "my_function()"
   ]
  },
  {
   "cell_type": "code",
   "execution_count": null,
   "metadata": {},
   "outputs": [],
   "source": [
    "from contextlib import contextmanager\n",
    "\n",
    "@contextmanager\n",
    "def log_level(level, name):\n",
    "    logger = logging.getLogger(name)\n",
    "    old_level = logger.getEffectiveLevel()\n",
    "    logger.setLevel(level)\n",
    "    try:\n",
    "        yield logger\n",
    "    finally:\n",
    "        logger.setLevel(old_level)\n",
    "        \n",
    "with log_level(logging.DEBUG, 'my-log') as logger:\n",
    "    logger.debug('This is my message')\n",
    "    logging.debug('This will not print')\n",
    "\n",
    "logger = logging.getLogger('my-log')\n",
    "logger.debug('Debug will not print')\n",
    "logger.error('Error will print')"
   ]
  },
  {
   "cell_type": "markdown",
   "metadata": {},
   "source": [
    "### Things to Remember\n",
    "\n",
    "- The **with** statement allows you to reuse logic from **try/finally** blocks and reduce visual noise.\n",
    "- The **contextlib** built-in module provides a **contextmanager** decorator that makes it easy to use your own functions in **with** statements.\n",
    "- The value yielded by context managers is supplied to the as part of the **with** statement. It's useful for letting your code directly access the cause of the special context."
   ]
  },
  {
   "cell_type": "markdown",
   "metadata": {},
   "source": [
    "## Item 44: Make *pickle* Reliable with *copyreg*\n",
    "\n",
    "The pickle built-in module can serialize Python objects into a stream of bytes and deserialize bytes back into objects.\n",
    "\n",
    "The **pickle** module's serialization format is unsafe by design. In contrast, the **json** module is safe by design."
   ]
  },
  {
   "cell_type": "code",
   "execution_count": null,
   "metadata": {},
   "outputs": [],
   "source": [
    "class GameState(object):\n",
    "    def __init__(self, level=0, lives=4, points=0):\n",
    "        self.level = level\n",
    "        self.lives = lives\n",
    "        self.points = points\n",
    "        \n",
    "def unpickle_game_state(kwargs):\n",
    "    version = kwargs.pop('version', 1)\n",
    "    if version == 1:\n",
    "        kwargs.pop('lives')\n",
    "    return GameState(**kwargs)\n",
    "\n",
    "def pickle_game_state(game_state):\n",
    "    kwargs = game_state.__dict__\n",
    "    kwargs['version'] = 2  # Versioning Classes\n",
    "    return unpickle_game_state, (kwargs,)\n",
    "\n",
    "import copyreg, pickle\n",
    "\n",
    "copyreg.pickle(GameState, pickle_game_state)\n",
    "\n",
    "state = GameState()\n",
    "state.points += 1000\n",
    "serialized = pickle.dumps(state)\n",
    "state_after = pickle.loads(serialized)\n",
    "print(state_after.__dict__)"
   ]
  },
  {
   "cell_type": "markdown",
   "metadata": {},
   "source": [
    "### Things to Remember\n",
    "\n",
    "- The *pickle* built-in module is only useful for serializing and deserializing objects between trusted programs.\n",
    "- The *pickle* module may break down when used for more than trivial use cases.\n",
    "- Use the *copyreg* built-in module with *pickle* to add missing attribute values, allow versioning of classes, and provide stable import path."
   ]
  }
 ],
 "metadata": {
  "kernelspec": {
   "display_name": "Python 3",
   "language": "python",
   "name": "python3"
  },
  "language_info": {
   "codemirror_mode": {
    "name": "ipython",
    "version": 3
   },
   "file_extension": ".py",
   "mimetype": "text/x-python",
   "name": "python",
   "nbconvert_exporter": "python",
   "pygments_lexer": "ipython3",
   "version": "3.7.3"
  }
 },
 "nbformat": 4,
 "nbformat_minor": 2
}
