{
 "cells": [
  {
   "cell_type": "markdown",
   "metadata": {},
   "source": [
    "# Production\n",
    "\n",
    "- [Item 54: Consider Module-Scoped Code to Configure Deployment Environments](#Item-54:-Consider-Module-Scoped-Code-to-Configure-Deployment-Environments)"
   ]
  },
  {
   "cell_type": "markdown",
   "metadata": {},
   "source": [
    "## Item 54: Consider Module-Scoped Code to Configure Deployment Environments\n",
    "\n",
    "```python\n",
    "# dev_main.py\n",
    "TESTING = True\n",
    "import db_connection\n",
    "db = db_connection.Database()\n",
    "\n",
    "# prod_main.py\n",
    "TESTING = False\n",
    "import db_connection\n",
    "db = db_connection.Database()\n",
    "\n",
    "# db_connection.py\n",
    "import __main__\n",
    "\n",
    "class TestingDatabase(object):\n",
    "    # ...\n",
    "    \n",
    "class RealDatabase(object):\n",
    "    # ...\n",
    "    \n",
    "if __main__.TESTING:\n",
    "    Database = TestingDatabase\n",
    "else:\n",
    "    Database = RealDatabase\n",
    "```\n",
    "\n",
    "**Note:**\n",
    "\n",
    "Once your deployment environments get complicated, you should consider moving them out of Python constants (like TESTING) and into dedicated configuration files.\n",
    "\n",
    "```python\n",
    "# db_connection.py\n",
    "import sys\n",
    "\n",
    "class Win32Database(object):\n",
    "    # ...\n",
    "    \n",
    "class PosixDatabase(object):\n",
    "    # ...\n",
    "    \n",
    "if sys.platform.startswith('win32'):\n",
    "    Database = Win32Database\n",
    "else:\n",
    "    Database = PosixDatabase\n",
    "```\n",
    "\n",
    "### Things to Remember\n",
    "\n",
    "- Programs often need to run in multiple deployment environments that each have unique assumptions and configurations.\n",
    "- You can tailor a module's contents to different deployment environments by using normal Python statements in module scope.\n",
    "- Module contents can be the product of any external condition, including host introspection through the *sys* and *os* modules."
   ]
  }
 ],
 "metadata": {
  "kernelspec": {
   "display_name": "Python 3",
   "language": "python",
   "name": "python3"
  },
  "language_info": {
   "codemirror_mode": {
    "name": "ipython",
    "version": 3
   },
   "file_extension": ".py",
   "mimetype": "text/x-python",
   "name": "python",
   "nbconvert_exporter": "python",
   "pygments_lexer": "ipython3",
   "version": "3.7.3"
  }
 },
 "nbformat": 4,
 "nbformat_minor": 2
}
