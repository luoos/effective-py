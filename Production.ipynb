{
 "cells": [
  {
   "cell_type": "markdown",
   "metadata": {},
   "source": [
    "# Production\n",
    "\n",
    "- [Item 54: Consider Module-Scoped Code to Configure Deployment Environments](#Item-54:-Consider-Module-Scoped-Code-to-Configure-Deployment-Environments)\n",
    "- [Item 55: Use repr Strings for Debugging Output](#Item-55:-Use-repr-Strings-for-Debugging-Output)\n",
    "- [Item 56: Test Everything with unittest](#Item-56:-Test-Everything-with-unittest)"
   ]
  },
  {
   "cell_type": "markdown",
   "metadata": {},
   "source": [
    "## Item 54: Consider Module-Scoped Code to Configure Deployment Environments\n",
    "\n",
    "```python\n",
    "# dev_main.py\n",
    "TESTING = True\n",
    "import db_connection\n",
    "db = db_connection.Database()\n",
    "\n",
    "# prod_main.py\n",
    "TESTING = False\n",
    "import db_connection\n",
    "db = db_connection.Database()\n",
    "\n",
    "# db_connection.py\n",
    "import __main__\n",
    "\n",
    "class TestingDatabase(object):\n",
    "    # ...\n",
    "    \n",
    "class RealDatabase(object):\n",
    "    # ...\n",
    "    \n",
    "if __main__.TESTING:\n",
    "    Database = TestingDatabase\n",
    "else:\n",
    "    Database = RealDatabase\n",
    "```\n",
    "\n",
    "**Note:**\n",
    "\n",
    "Once your deployment environments get complicated, you should consider moving them out of Python constants (like TESTING) and into dedicated configuration files.\n",
    "\n",
    "```python\n",
    "# db_connection.py\n",
    "import sys\n",
    "\n",
    "class Win32Database(object):\n",
    "    # ...\n",
    "    \n",
    "class PosixDatabase(object):\n",
    "    # ...\n",
    "    \n",
    "if sys.platform.startswith('win32'):\n",
    "    Database = Win32Database\n",
    "else:\n",
    "    Database = PosixDatabase\n",
    "```\n",
    "\n",
    "### Things to Remember\n",
    "\n",
    "- Programs often need to run in multiple deployment environments that each have unique assumptions and configurations.\n",
    "- You can tailor a module's contents to different deployment environments by using normal Python statements in module scope.\n",
    "- Module contents can be the product of any external condition, including host introspection through the *sys* and *os* modules."
   ]
  },
  {
   "cell_type": "markdown",
   "metadata": {},
   "source": [
    "## Item 55: Use *repr* Strings for Debugging Output\n"
   ]
  },
  {
   "cell_type": "code",
   "execution_count": null,
   "metadata": {},
   "outputs": [],
   "source": [
    "print(repr(5))\n",
    "print(repr('5'))\n",
    "\n",
    "# equivalent\n",
    "print('%r' % 5)\n",
    "print('%r' % '5')"
   ]
  },
  {
   "cell_type": "code",
   "execution_count": null,
   "metadata": {},
   "outputs": [],
   "source": [
    "class Coordinate(object):\n",
    "    def __init__(self, x, y):\n",
    "        self.x, self.y = x, y\n",
    "        \n",
    "    def __repr__(self):\n",
    "        return 'Coordinate(%d, %d)' % (self.x, self.y)\n",
    "    \n",
    "    def __str__(self):\n",
    "        return '<%d, %d>' % (self.x, self.y)\n",
    "    \n",
    "obj = Coordinate(1, 2)\n",
    "print(repr(obj))\n",
    "print(obj)\n",
    "print(obj.__dict__)"
   ]
  },
  {
   "cell_type": "markdown",
   "metadata": {},
   "source": [
    "Stackoverflow: [Difference between \\_\\_str__ and \\_\\_repr__?\n",
    "](https://stackoverflow.com/questions/1436703/difference-between-str-and-repr)\n",
    "\n",
    "- if `__repr__` is defined, and `__str__` is not, the object will behave as though `__str__=__repr__`.\n",
    "- `__repr__` goal is to be unambiguous, while `__str__` goal is to be readable."
   ]
  },
  {
   "cell_type": "markdown",
   "metadata": {},
   "source": [
    "### Things to Remember\n",
    "\n",
    "- Calling `print` on built-in Python types will produce the human-readable string version of a value, which hides type information\n",
    "- Calling `repr` on built-in Python types will produce the printable string version of a value. These `repr` strings could be passed to the `eval` built-in function to get back thr original value.\n",
    "- `%s` in format strings will produce human-readable strings like `str`. `%r` will produce printable strings like `repr`.\n",
    "- You can define the `__repr__` method to customize the printable representation of a class and provide more detailed debugging information.\n",
    "- You can reach into any object's `__dict__` attribute to view its internals."
   ]
  },
  {
   "cell_type": "markdown",
   "metadata": {},
   "source": [
    "## Item 56: Test Everything with unittest\n",
    "\n",
    "> Code without tests is broken by design - Jacob Kaplan-Moss\n",
    "\n",
    "```python\n",
    "# utils.py\n",
    "def to_str(data):\n",
    "    if isinstance(data, str):\n",
    "        return data\n",
    "    elif isinstance(data, bytes):\n",
    "        return data.decode('utf-8')\n",
    "    else:\n",
    "        raise TypeError('Must supply str or bytes, '\n",
    "                        'found: %r' % data)\n",
    "        \n",
    "# utils_test.py\n",
    "from unittest import TestCase, main\n",
    "from utils import to_str\n",
    "\n",
    "class UtilsTestCase(TestCase):\n",
    "    def setUp(self):\n",
    "        # ...\n",
    "        \n",
    "    def tearDown(self):\n",
    "        # ...\n",
    "    \n",
    "    def test_to_str_bytes(self):\n",
    "        self.assertEqual('hello', to_str(b'hello'))\n",
    "       \n",
    "    def test_to_str_str(self):\n",
    "        self.assertEqual('hello', to_str('hello'))\n",
    "    \n",
    "    def test_to_str_bad(self):\n",
    "        self.assertRaises(TypeError, to_str, object())\n",
    "        \n",
    "if __name__ == '__main__':\n",
    "    main()\n",
    "```\n",
    "\n",
    "You have no guarantee that your modules will actually work together unless you prove it.\n",
    "\n",
    "### Things to Remember\n",
    "\n",
    "- The only way to have confidence in a Python program is to write tests.\n",
    "- The `unittest` built-in module provides most of the facilities you'll need to write good tests.\n",
    "- You can define tests by subclassing `TestCase` and defining one method per behavior you'd like to test. Test methods on `TestCase` classes must start with the word `test`.\n",
    "- It's important to write both unit test (for isolated functionality) and integration tests (for modules that interact)."
   ]
  }
 ],
 "metadata": {
  "kernelspec": {
   "display_name": "Python 3",
   "language": "python",
   "name": "python3"
  },
  "language_info": {
   "codemirror_mode": {
    "name": "ipython",
    "version": 3
   },
   "file_extension": ".py",
   "mimetype": "text/x-python",
   "name": "python",
   "nbconvert_exporter": "python",
   "pygments_lexer": "ipython3",
   "version": "3.7.3"
  }
 },
 "nbformat": 4,
 "nbformat_minor": 2
}
