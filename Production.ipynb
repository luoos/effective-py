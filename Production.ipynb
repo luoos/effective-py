{
 "cells": [
  {
   "cell_type": "markdown",
   "metadata": {},
   "source": [
    "# Production\n",
    "\n",
    "- [Item 54: Consider Module-Scoped Code to Configure Deployment Environments](#Item-54:-Consider-Module-Scoped-Code-to-Configure-Deployment-Environments)\n",
    "- [Item 55: Use repr Strings for Debugging Output](#Item-55:-Use-repr-Strings-for-Debugging-Output)\n",
    "- [Item 56: Test Everything with unittest](#Item-56:-Test-Everything-with-unittest)\n",
    "- [Item 57: Consider Interactive Debugging with pdb](#Item-57:-Consider-Interactive-Debugging-with-pdb)\n",
    "- [Item 58: Profile Before Optimizing](#Item-58:-Profile-Before-Optimizing)"
   ]
  },
  {
   "cell_type": "markdown",
   "metadata": {},
   "source": [
    "## Item 54: Consider Module-Scoped Code to Configure Deployment Environments\n",
    "\n",
    "```python\n",
    "# dev_main.py\n",
    "TESTING = True\n",
    "import db_connection\n",
    "db = db_connection.Database()\n",
    "\n",
    "# prod_main.py\n",
    "TESTING = False\n",
    "import db_connection\n",
    "db = db_connection.Database()\n",
    "\n",
    "# db_connection.py\n",
    "import __main__\n",
    "\n",
    "class TestingDatabase(object):\n",
    "    # ...\n",
    "    \n",
    "class RealDatabase(object):\n",
    "    # ...\n",
    "    \n",
    "if __main__.TESTING:\n",
    "    Database = TestingDatabase\n",
    "else:\n",
    "    Database = RealDatabase\n",
    "```\n",
    "\n",
    "**Note:**\n",
    "\n",
    "Once your deployment environments get complicated, you should consider moving them out of Python constants (like TESTING) and into dedicated configuration files.\n",
    "\n",
    "```python\n",
    "# db_connection.py\n",
    "import sys\n",
    "\n",
    "class Win32Database(object):\n",
    "    # ...\n",
    "    \n",
    "class PosixDatabase(object):\n",
    "    # ...\n",
    "    \n",
    "if sys.platform.startswith('win32'):\n",
    "    Database = Win32Database\n",
    "else:\n",
    "    Database = PosixDatabase\n",
    "```\n",
    "\n",
    "### Things to Remember\n",
    "\n",
    "- Programs often need to run in multiple deployment environments that each have unique assumptions and configurations.\n",
    "- You can tailor a module's contents to different deployment environments by using normal Python statements in module scope.\n",
    "- Module contents can be the product of any external condition, including host introspection through the *sys* and *os* modules."
   ]
  },
  {
   "cell_type": "markdown",
   "metadata": {},
   "source": [
    "## Item 55: Use *repr* Strings for Debugging Output\n"
   ]
  },
  {
   "cell_type": "code",
   "execution_count": null,
   "metadata": {},
   "outputs": [],
   "source": [
    "print(repr(5))\n",
    "print(repr('5'))\n",
    "\n",
    "# equivalent\n",
    "print('%r' % 5)\n",
    "print('%r' % '5')"
   ]
  },
  {
   "cell_type": "code",
   "execution_count": null,
   "metadata": {},
   "outputs": [],
   "source": [
    "class Coordinate(object):\n",
    "    def __init__(self, x, y):\n",
    "        self.x, self.y = x, y\n",
    "        \n",
    "    def __repr__(self):\n",
    "        return 'Coordinate(%d, %d)' % (self.x, self.y)\n",
    "    \n",
    "    def __str__(self):\n",
    "        return '<%d, %d>' % (self.x, self.y)\n",
    "    \n",
    "obj = Coordinate(1, 2)\n",
    "print(repr(obj))\n",
    "print(obj)\n",
    "print(obj.__dict__)"
   ]
  },
  {
   "cell_type": "markdown",
   "metadata": {},
   "source": [
    "Stackoverflow: [Difference between \\_\\_str__ and \\_\\_repr__?\n",
    "](https://stackoverflow.com/questions/1436703/difference-between-str-and-repr)\n",
    "\n",
    "- if `__repr__` is defined, and `__str__` is not, the object will behave as though `__str__=__repr__`.\n",
    "- `__repr__` goal is to be unambiguous, while `__str__` goal is to be readable."
   ]
  },
  {
   "cell_type": "markdown",
   "metadata": {},
   "source": [
    "### Things to Remember\n",
    "\n",
    "- Calling `print` on built-in Python types will produce the human-readable string version of a value, which hides type information\n",
    "- Calling `repr` on built-in Python types will produce the printable string version of a value. These `repr` strings could be passed to the `eval` built-in function to get back thr original value.\n",
    "- `%s` in format strings will produce human-readable strings like `str`. `%r` will produce printable strings like `repr`.\n",
    "- You can define the `__repr__` method to customize the printable representation of a class and provide more detailed debugging information.\n",
    "- You can reach into any object's `__dict__` attribute to view its internals."
   ]
  },
  {
   "cell_type": "markdown",
   "metadata": {},
   "source": [
    "## Item 56: Test Everything with unittest\n",
    "\n",
    "> Code without tests is broken by design - Jacob Kaplan-Moss\n",
    "\n",
    "```python\n",
    "# utils.py\n",
    "def to_str(data):\n",
    "    if isinstance(data, str):\n",
    "        return data\n",
    "    elif isinstance(data, bytes):\n",
    "        return data.decode('utf-8')\n",
    "    else:\n",
    "        raise TypeError('Must supply str or bytes, '\n",
    "                        'found: %r' % data)\n",
    "        \n",
    "# utils_test.py\n",
    "from unittest import TestCase, main\n",
    "from utils import to_str\n",
    "\n",
    "class UtilsTestCase(TestCase):\n",
    "    def setUp(self):\n",
    "        # ...\n",
    "        \n",
    "    def tearDown(self):\n",
    "        # ...\n",
    "    \n",
    "    def test_to_str_bytes(self):\n",
    "        self.assertEqual('hello', to_str(b'hello'))\n",
    "       \n",
    "    def test_to_str_str(self):\n",
    "        self.assertEqual('hello', to_str('hello'))\n",
    "    \n",
    "    def test_to_str_bad(self):\n",
    "        self.assertRaises(TypeError, to_str, object())\n",
    "        \n",
    "if __name__ == '__main__':\n",
    "    main()\n",
    "```\n",
    "\n",
    "You have no guarantee that your modules will actually work together unless you prove it.\n",
    "\n",
    "### Things to Remember\n",
    "\n",
    "- The only way to have confidence in a Python program is to write tests.\n",
    "- The `unittest` built-in module provides most of the facilities you'll need to write good tests.\n",
    "- You can define tests by subclassing `TestCase` and defining one method per behavior you'd like to test. Test methods on `TestCase` classes must start with the word `test`.\n",
    "- It's important to write both unit test (for isolated functionality) and integration tests (for modules that interact)."
   ]
  },
  {
   "cell_type": "markdown",
   "metadata": {},
   "source": [
    "## Item 57: Consider Interactive Debugging with *pdb*"
   ]
  },
  {
   "cell_type": "code",
   "execution_count": null,
   "metadata": {},
   "outputs": [],
   "source": [
    "def complex_func(a, b):\n",
    "    a = a * 2\n",
    "    b = b + 3\n",
    "    import pdb; pdb.set_trace()\n",
    "    return a + b\n",
    "\n",
    "complex_func(1, 2)"
   ]
  },
  {
   "cell_type": "markdown",
   "metadata": {},
   "source": [
    "`pdb` commands:\n",
    "\n",
    "- bt: Print the traceback of the current execution call stack.\n",
    "- up: Move your scope up the function call stack to the caller of the current function.\n",
    "- down: Move your scope back down the function call stack one level.\n",
    "- step: Run the program until the next line of execution in the program.\n",
    "- next: Run the program until the next line of execution in the current function.\n",
    "- return: Run the program until the current function returns, then return control back to the debugger.\n",
    "- continue: Continue running the program until the next breakpoint (or set_trace is called again).\n",
    "- locals(): list all local variables\n",
    "- globals()\n"
   ]
  },
  {
   "cell_type": "markdown",
   "metadata": {},
   "source": [
    "### Things to Remember\n",
    "\n",
    "- You can initiate the Python interactive debugger at a point of interest directly in your program with the `import pdb; pdb.set_trace()` statements.\n",
    "- The Python debugger prompt is a full Python shell that lets you inspect and modify the state of a running program.\n",
    "- `pdb` shell commands let you precisely control program execution, allowing you to alternate between inspecting proram state and progressing program execution."
   ]
  },
  {
   "cell_type": "markdown",
   "metadata": {},
   "source": [
    "## Item 58: Profile Before Optimizing\n",
    "\n",
    "The dynamic nature of Python causes surprising behaviors in its runtime performance. Operations you might assume are slow are actually very fast (string manipulation, generators). Language features you might assume are fast are actually very slow (attribute access, function calls). The true source of slowdowns in a Python program can be obscure.\n",
    "\n",
    "The best approach is to ignore your intuition and directly measure the performance of a program before you try to optimize it."
   ]
  },
  {
   "cell_type": "code",
   "execution_count": null,
   "metadata": {},
   "outputs": [],
   "source": [
    "from bisect import bisect_left\n",
    "\n",
    "def insertion_sort(data):\n",
    "    result = []\n",
    "    for value in data:\n",
    "        insert_value(result, value)\n",
    "    return result\n",
    "\n",
    "def insert_value(array, value):\n",
    "    i = bisect_left(array, value)\n",
    "    array.insert(i, value)\n",
    "    \n",
    "from random import randint\n",
    "\n",
    "max_size = 10**4\n",
    "data = [randint(0, max_size) for _ in range(max_size)]\n",
    "test = lambda: insertion_sort(data)\n",
    "\n",
    "from cProfile import Profile\n",
    "from pstats import Stats\n",
    "\n",
    "profiler = Profile()\n",
    "profiler.runcall(test)\n",
    "\n",
    "stats = Stats(profiler)\n",
    "stats.strip_dirs()\n",
    "stats.sort_stats('cumulative')\n",
    "stats.print_stats()\n",
    "stats.print_callers()"
   ]
  },
  {
   "cell_type": "markdown",
   "metadata": {},
   "source": [
    "- **ncalls**: The number of calls to the function during the profiling period.\n",
    "- **tottime**: The number of seconds spent executing the function, excluding time spent executing other functions it calls.\n",
    "- **tottime percall**: The average number of seconds spent in the function each time it was called, excluding time spent executing other functions it calls. This is tottime divided by ncalls.\n",
    "- **cumtime**: The cumulative number of seconds spent executing the function, including time spent in all other functions it calls.\n",
    "- **cumtime percall**: The average number of seconds spent in the function each time it was called, including time spent in all other functions it calls. This is cumtime divided by ncalls."
   ]
  },
  {
   "cell_type": "markdown",
   "metadata": {},
   "source": [
    "### Things to Remember\n",
    "\n",
    "- It's important to profile Python programs before optimizing because the source of slowdowns is often obsure.\n",
    "- Use the **cProfile** module instead of the **profile** module because it provides more accurate profiling information.\n",
    "- The **Profile** object's **runcall** method provides everything you need to profile a tree of function calls in isolation.\n",
    "- The **Stats** object lets you select and print the subset of profiling information you need to see to understand your program's performance."
   ]
  }
 ],
 "metadata": {
  "kernelspec": {
   "display_name": "Python 3",
   "language": "python",
   "name": "python3"
  },
  "language_info": {
   "codemirror_mode": {
    "name": "ipython",
    "version": 3
   },
   "file_extension": ".py",
   "mimetype": "text/x-python",
   "name": "python",
   "nbconvert_exporter": "python",
   "pygments_lexer": "ipython3",
   "version": "3.7.3"
  }
 },
 "nbformat": 4,
 "nbformat_minor": 2
}
