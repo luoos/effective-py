{
 "cells": [
  {
   "cell_type": "markdown",
   "metadata": {},
   "source": [
    "# Collaboration\n"
   ]
  },
  {
   "cell_type": "markdown",
   "metadata": {},
   "source": [
    "- [Item 49: Write Docstrings for Every Function, Class, and Module](#Item-49:-Write-Docstrings-for-Every-Function,-Class,-and-Module)\n",
    "- [Item 50: Use Packages to Organize Modules and Provide Stable APIs](#Item-50:-Use-Packages-to-Organize-Modules-and-Provide-Stable-APIs)\n",
    "- [Item 51: Define a Root Exception to Insulate Callers from APIs](#Item-51:-Define-a-Root-Exception-to-Insulate-Callers-from-APIs)\n",
    "- [Item 52: Know How to Break Circular Dependencies](#Item-52:-Know-How-to-Break-Circular-Dependencies)"
   ]
  },
  {
   "cell_type": "markdown",
   "metadata": {},
   "source": [
    "## Item 49: Write Docstrings for Every Function, Class, and Module"
   ]
  },
  {
   "cell_type": "code",
   "execution_count": null,
   "metadata": {},
   "outputs": [],
   "source": [
    "\"\"\"\n",
    "Documentation from a program's source code is\n",
    "directly accessible as the program runs\n",
    "\"\"\"\n",
    "\n",
    "def palindrome(word):\n",
    "    \"\"\"Return True if the given word\"\"\"\n",
    "    return word == word[::-1]\n",
    "\n",
    "print(repr(palindrome.__doc__))\n",
    "help(palindrome)"
   ]
  },
  {
   "cell_type": "markdown",
   "metadata": {},
   "source": [
    "### Documenting Modules\n",
    "\n",
    "Each module should have a top-level docstring. This is a string literal that is the first statement in a source file. It should use three double quotes (\"\"\"). The goal of this docstring is to introduce the module and its contents.\n",
    "\n",
    "The first line of the docstring should be a single sentence describing the module's purpose. The paragraphs that follow should contain the details that all users of the module should know about its operation. The module docstring is also a jumping-off point where you can highlight important classes and functions found in the module.\n",
    "\n",
    "Example below:"
   ]
  },
  {
   "cell_type": "code",
   "execution_count": null,
   "metadata": {},
   "outputs": [],
   "source": [
    "# words.py\n",
    "# !/usr/bin/env python3\n",
    "\"\"\"Library for testing words for various linguistic patterns.\n",
    "\n",
    "Testing how words relate to each other can be tricky sometimes! This module provides easy ways to determine when words you’ve found have special properties.\n",
    "\n",
    "Available functions:\n",
    "- palindrome: Determine if a word is a palindrome.\n",
    "- check_anagram: Determine if two words are anagrams.\n",
    "...\n",
    "\"\"\"\n",
    "\n",
    "# ..."
   ]
  },
  {
   "cell_type": "markdown",
   "metadata": {},
   "source": [
    "### Documenting Classes"
   ]
  },
  {
   "cell_type": "code",
   "execution_count": null,
   "metadata": {},
   "outputs": [],
   "source": [
    "class Player(object):\n",
    "    \"\"\"Represents a player of the game.\n",
    "    \n",
    "    Subclasses may override the 'tick' method to provide\n",
    "    custom animations for the player's movement depending\n",
    "    on their power level, etc.\n",
    "    \n",
    "    Public attributes:\n",
    "    - power: Unused power-ups (float between 0 and 1).\n",
    "    - coins: Coins found during the level (integer).\n",
    "    \"\"\"\n",
    "    \n",
    "    # ..."
   ]
  },
  {
   "cell_type": "markdown",
   "metadata": {},
   "source": [
    "### Documenting Functions\n",
    "\n",
    "Any return values should be mentioned. Any exceptions that callers must handle as part of the function's interface should be explained."
   ]
  },
  {
   "cell_type": "code",
   "execution_count": null,
   "metadata": {},
   "outputs": [],
   "source": [
    "def find_anagrams(word, dictionary):\n",
    "    \"\"\"Find all anagrams for a word.\n",
    "    \n",
    "    This function only runs as fast as the test for\n",
    "    membership in the 'dictionary' container. It will\n",
    "    be slow if the dictionary is a list and fast if\n",
    "    it's a set.\n",
    "    \n",
    "    Args:\n",
    "        word: String of the target word.\n",
    "        dictionary: Container with all strings that\n",
    "            are known to be actual words.\n",
    "            \n",
    "    Return:\n",
    "        List of anagrams that were found. Empty if\n",
    "        none were found.\n",
    "    \"\"\"\n",
    "    \n",
    "    # ..."
   ]
  },
  {
   "cell_type": "markdown",
   "metadata": {},
   "source": [
    "### Things to Remember\n",
    "\n",
    "- Write documentation for every module, class, and function using docstrings. Keep them up to date as your code changes.\n",
    "- For modules: Introduce the contents of the module and any important classes or functions all users should know about.\n",
    "- For classes: Document behavior, important attributes, and subclass behavior in the docstring following the *class* statement.\n",
    "- For functions and methods: Document every argument, returned value, raised exception, adn other behaviors in the docstring following the *def* statement."
   ]
  },
  {
   "cell_type": "markdown",
   "metadata": {},
   "source": [
    "## Item 50: Use Packages to Organize Modules and Provide Stable APIs"
   ]
  },
  {
   "cell_type": "markdown",
   "metadata": {},
   "source": [
    "### Namespaces\n",
    "\n",
    "```python\n",
    "from analysis.utils import inspect as analysis_inspect\n",
    "from frontend.utils import inspect as frontend_inspect\n",
    "```"
   ]
  },
  {
   "cell_type": "markdown",
   "metadata": {},
   "source": [
    "### Stable APIs\n",
    "\n",
    "Python can limit the surface area exposed to API consumers by using the \\_\\_all__ special attribute of a module or package. The value of \\_\\_all__ is a list of every name to export from the module as part of its public API.\n",
    "\n",
    "```python\n",
    "# models.py\n",
    "__all__ = ['Projectile']\n",
    "\n",
    "class Projectile(object):\n",
    "    def __init__(self, mass, velocity):\n",
    "        self.mass = mass\n",
    "        self.velocity = velocity\n",
    "        \n",
    "# utils.py\n",
    "from . models import Projectile\n",
    "\n",
    "__all__ = ['simulate_collision']\n",
    "\n",
    "def _dot_product(a, b):\n",
    "    # ...\n",
    "    \n",
    "def simulate_collision(a, b):\n",
    "    # ...\n",
    "    \n",
    "# __init__.py\n",
    "__all__ = []\n",
    "from . models import *\n",
    "__all__ += models.__all__\n",
    "from . utils import *\n",
    "__all__ += utils.__all__\n",
    "\n",
    "```"
   ]
  },
  {
   "cell_type": "markdown",
   "metadata": {},
   "source": [
    "### Things to Remember\n",
    "\n",
    "- Packages in Python are modules that contain other modules. Packages allow you to organize your code into separate, non-conflicting namespaces with unique absolute module names.\n",
    "- Simple packages are defined by adding an \\_\\_init__.py file to a directory that contains other source files. These files become the child modules of the directory's package. Package directories may also contain other packages.\n",
    "- You can provide an explicit API for a module by listing its publicly visible names in its \\_\\_all__ special attribute.\n",
    "- You can hide a packages's internal implementation by only importing public names in the package's \\_\\_init__.py file or by naming internal-only members with a leading underscore.\n",
    "- When collaborating within a single team or on a single codebase, using \\_\\_all__ for explicit APIs is probably unnecessary."
   ]
  },
  {
   "cell_type": "markdown",
   "metadata": {},
   "source": [
    "## Item 51: Define a Root Exception to Insulate Callers from APIs\n",
    "\n",
    "When you're defining a module's API, the exceptions you throw are just as much a part of your inteface as the functions and classes you define.\n",
    "\n",
    "```python\n",
    "# my_module.py\n",
    "class Error(Exception):\n",
    "    \"\"\"Base-class for all exceptions raised by this module.\"\"\"\n",
    "\n",
    "    \n",
    "class InvalidDensityError(Error):\n",
    "    \"\"\"There was a problem with a provided density value.\"\"\"\n",
    "    \n",
    "    \n",
    "def determine_weight(volume, density):\n",
    "    if density <= 0:\n",
    "        raise ValueError('Density must be positive')\n",
    "    # ...\n",
    "    \n",
    "try:\n",
    "    weight = my_module.determine_weight(1, -1)\n",
    "except my_module.Error as e:\n",
    "    logging.error('Unexpected error: %s', e)\n",
    "except Exception as e:\n",
    "    logging.error('Bug in the API code: %s', e)\n",
    "    raise\n",
    "```\n",
    "\n",
    "This insulation has three helpful effects:\n",
    "\n",
    "1. Root exceptions let callers understand when there's a problem with their usage of your API.\n",
    "2. Root exceptions can help find bugs in your API module's code. If your code only deliberately raises exceptions taht you define within your module's hierarchy, then all other types of exceptions raised by your module must be the ones that you didn't intend to raise. These are bugs in your API's code.\n",
    "3. The third impact of using root exceptions is future-proofing your API. Over time, you may want to expand your API to provide more specific exceptions in certain situations."
   ]
  },
  {
   "cell_type": "markdown",
   "metadata": {},
   "source": [
    "### Things to Remember\n",
    "\n",
    "- Defining root exceptions for your modules allows API consumers to insulate themselves from your API.\n",
    "- Catching root exceptions can help you find bugs in code that consumes an API.\n",
    "- Catching the Python *Exception* base class can help you find bugs in API implementations.\n",
    "- Intermediate root exceptions let you add more specific types of exceptions in the future without breaking your API consumers."
   ]
  },
  {
   "cell_type": "markdown",
   "metadata": {},
   "source": [
    "## Item 52: Know How to Break Circular Dependencies\n",
    "\n",
    "When a module is imported, here's what Python actually does in depth-first order:\n",
    "\n",
    "1. Searches for your module in locations from sys.path\n",
    "2. Loads the code from the module and ensures that it compiles\n",
    "3. Creates a corresponding empty module object\n",
    "4. Inserts the module into sys.modules\n",
    "5. Runs the code in the module object to define its contents\n",
    "\n",
    "Three ways to break circular dependencies:\n",
    "\n",
    "1. Reordering Imports\n",
    "\n",
    "```python\n",
    "#app.py\n",
    "class Prefs(object):\n",
    "    # ...\n",
    "    \n",
    "prefs = Prefs()\n",
    "\n",
    "import dialog  # Moved\n",
    "dialog.show()\n",
    "```\n",
    "\n",
    "Although this avoids the *AttributeError*, it goes against the PEP 8 style guide. The style guide suggests that you always put imports at the top of your Python files.\n",
    "\n",
    "Having imports later in a file can be brittle and can cause small changes in the ordering of your code to break the module entirely. Thus, you should avoid import reordering to solve your circular dependency issues.\n",
    "\n",
    "2. Import, Configure, Run\n",
    "\n",
    "The second solution to the circular imports problem is to have your modules minimize side effects at import time. You have your modules only define functions, classes, and constants. You avoid actually running any functions at import time. Then, you have each module provide a *configure* function that you call once all other modules have finished importing. The purpose of *configure* is to prepare each module's state by accessing the attributes of other modules. You run *configure* after all modules have been imported, so all attributes must be defined.\n",
    "\n",
    "```python\n",
    "# dialog.py\n",
    "import app\n",
    "\n",
    "class Dialog(object):\n",
    "    # ...\n",
    "    \n",
    "save_dialog = Dialog()\n",
    "\n",
    "def show():\n",
    "    # ...\n",
    "    \n",
    "def configure():\n",
    "    save_dialog.save_dir = app.prefs.get('save_dir')\n",
    " \n",
    "\n",
    "# app.py\n",
    "import dialog\n",
    "\n",
    "class Prefs(object):\n",
    "    # ...\n",
    "    \n",
    "prefs = Prefs()\n",
    "\n",
    "def configure():\n",
    "    # ...\n",
    "    \n",
    "    \n",
    "# main.py\n",
    "import app\n",
    "import dialog\n",
    "\n",
    "app.configure()\n",
    "dialog.configure()\n",
    "\n",
    "dialog.show()\n",
    "```\n",
    "\n",
    "This works well in many situations and enables patterns like *dependency injection*. But sometimes it can be difficult to structure your code so that an explicit *configure* step is possible. Having two distinct phases within a module can also make your code harder to read because it separates the definition of objects from their configuration.\n",
    "\n",
    "3. Dynamic Import\n",
    "\n",
    "The third --- and often simplest --- solution to the circular imports problem is to use an *import* statement within a function or method. This is called a *dynamic import* because the module import happens while the program is running, not while the program is first starting up and initializing its modules.\n",
    "\n",
    "```python\n",
    "# dialog.py\n",
    "class Dialog(object):\n",
    "    # ...\n",
    "    \n",
    "save_dialog = Dialog()\n",
    "\n",
    "def show():\n",
    "    import app  # Dynamic import\n",
    "    save_dialog.save_dir = app.prefs.get('save_dir')\n",
    "    # ...\n",
    "```\n",
    "\n",
    "In general, it's good to avoid dynamic imports like this. The cost of the *import* statement is not negligible and can be especially bad in tight loops. However, these downsides are often better than the alternative of restructuring your entire program."
   ]
  },
  {
   "cell_type": "markdown",
   "metadata": {},
   "source": [
    "### Things to Remember\n",
    "\n",
    "- Circular dependencies happen when two modules must call into each other at import time. They can cause your program to crash at startup.\n",
    "- The best way to break a circular dependency is refactoring mutual dependencies into a separate module at the bottom of the dependency tree.\n",
    "- Dynamic imports are the simplest solution for breaking a circular dependency between modules while minimizing refactoring and complexity."
   ]
  }
 ],
 "metadata": {
  "kernelspec": {
   "display_name": "Python 3",
   "language": "python",
   "name": "python3"
  },
  "language_info": {
   "codemirror_mode": {
    "name": "ipython",
    "version": 3
   },
   "file_extension": ".py",
   "mimetype": "text/x-python",
   "name": "python",
   "nbconvert_exporter": "python",
   "pygments_lexer": "ipython3",
   "version": "3.7.3"
  }
 },
 "nbformat": 4,
 "nbformat_minor": 2
}
