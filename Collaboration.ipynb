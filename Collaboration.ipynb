{
 "cells": [
  {
   "cell_type": "markdown",
   "metadata": {},
   "source": [
    "# Collaboration\n"
   ]
  },
  {
   "cell_type": "markdown",
   "metadata": {},
   "source": [
    "- [Item 49: Write Docstrings for Every Function, Class, and Module](#Item-49:-Write-Docstrings-for-Every-Function,-Class,-and-Module)"
   ]
  },
  {
   "cell_type": "markdown",
   "metadata": {},
   "source": [
    "## Item 49: Write Docstrings for Every Function, Class, and Module"
   ]
  },
  {
   "cell_type": "code",
   "execution_count": null,
   "metadata": {},
   "outputs": [],
   "source": [
    "\"\"\"\n",
    "Documentation from a program's source code is\n",
    "directly accessible as the program runs\n",
    "\"\"\"\n",
    "\n",
    "def palindrome(word):\n",
    "    \"\"\"Return True if the given word\"\"\"\n",
    "    return word == word[::-1]\n",
    "\n",
    "print(repr(palindrome.__doc__))\n",
    "help(palindrome)"
   ]
  },
  {
   "cell_type": "markdown",
   "metadata": {},
   "source": [
    "### Documenting Modules\n",
    "\n",
    "Each module should have a top-level docstring. This is a string literal that is the first statement in a source file. It should use three double quotes (\"\"\"). The goal of this docstring is to introduce the module and its contents.\n",
    "\n",
    "The first line of the docstring should be a single sentence describing the module's purpose. The paragraphs that follow should contain the details that all users of the module should know about its operation. The module docstring is also a jumping-off point where you can highlight important classes and functions found in the module.\n",
    "\n",
    "Example below:"
   ]
  },
  {
   "cell_type": "code",
   "execution_count": null,
   "metadata": {},
   "outputs": [],
   "source": [
    "# words.py\n",
    "# !/usr/bin/env python3\n",
    "\"\"\"Library for testing words for various linguistic patterns.\n",
    "\n",
    "Testing how words relate to each other can be tricky sometimes! This module provides easy ways to determine when words you’ve found have special properties.\n",
    "\n",
    "Available functions:\n",
    "- palindrome: Determine if a word is a palindrome.\n",
    "- check_anagram: Determine if two words are anagrams.\n",
    "...\n",
    "\"\"\"\n",
    "\n",
    "# ..."
   ]
  },
  {
   "cell_type": "markdown",
   "metadata": {},
   "source": [
    "### Documenting Classes"
   ]
  },
  {
   "cell_type": "code",
   "execution_count": null,
   "metadata": {},
   "outputs": [],
   "source": [
    "class Player(object):\n",
    "    \"\"\"Represents a player of the game.\n",
    "    \n",
    "    Subclasses may override the 'tick' method to provide\n",
    "    custom animations for the player's movement depending\n",
    "    on their power level, etc.\n",
    "    \n",
    "    Public attributes:\n",
    "    - power: Unused power-ups (float between 0 and 1).\n",
    "    - coins: Coins found during the level (integer).\n",
    "    \"\"\"\n",
    "    \n",
    "    # ..."
   ]
  },
  {
   "cell_type": "markdown",
   "metadata": {},
   "source": [
    "### Documenting Functions\n",
    "\n",
    "Any return values should be mentioned. Any exceptions that callers must handle as part of the function's interface should be explained."
   ]
  },
  {
   "cell_type": "code",
   "execution_count": null,
   "metadata": {},
   "outputs": [],
   "source": [
    "def find_anagrams(word, dictionary):\n",
    "    \"\"\"Find all anagrams for a word.\n",
    "    \n",
    "    This function only runs as fast as the test for\n",
    "    membership in the 'dictionary' container. It will\n",
    "    be slow if the dictionary is a list and fast if\n",
    "    it's a set.\n",
    "    \n",
    "    Args:\n",
    "        word: String of the target word.\n",
    "        dictionary: Container with all strings that\n",
    "            are known to be actual words.\n",
    "            \n",
    "    Return:\n",
    "        List of anagrams that were found. Empty if\n",
    "        none were found.\n",
    "    \"\"\"\n",
    "    \n",
    "    # ..."
   ]
  },
  {
   "cell_type": "markdown",
   "metadata": {},
   "source": [
    "### Things to Remember\n",
    "\n",
    "- Write documentation for every module, class, and function using docstrings. Keep them up to date as your code changes.\n",
    "- For modules: Introduce the contents of the module and any important classes or functions all users should know about.\n",
    "- For classes: Document behavior, important attributes, and subclass behavior in the docstring following the *class* statement.\n",
    "- For functions and methods: Document every argument, returned value, raised exception, adn other behaviors in the docstring following the *def* statement."
   ]
  }
 ],
 "metadata": {
  "kernelspec": {
   "display_name": "Python 3",
   "language": "python",
   "name": "python3"
  },
  "language_info": {
   "codemirror_mode": {
    "name": "ipython",
    "version": 3
   },
   "file_extension": ".py",
   "mimetype": "text/x-python",
   "name": "python",
   "nbconvert_exporter": "python",
   "pygments_lexer": "ipython3",
   "version": "3.7.3"
  }
 },
 "nbformat": 4,
 "nbformat_minor": 2
}
